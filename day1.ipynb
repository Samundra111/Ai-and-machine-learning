{
 "cells": [
  {
   "cell_type": "code",
   "execution_count": 1,
   "id": "37f62bfc-72a7-440d-9532-13a8a108446b",
   "metadata": {},
   "outputs": [
    {
     "name": "stdout",
     "output_type": "stream",
     "text": [
      "1.26.4\n"
     ]
    }
   ],
   "source": [
    "import numpy as np\n",
    "print(np.__version__)"
   ]
  },
  {
   "cell_type": "markdown",
   "id": "4728c194-a094-4833-9b36-6daac1020271",
   "metadata": {},
   "source": [
    "#  creating array in numpy and checking its properties"
   ]
  },
  {
   "cell_type": "code",
   "execution_count": 20,
   "id": "d6e6d866-8713-45d1-b7c8-a30a60583694",
   "metadata": {},
   "outputs": [
    {
     "name": "stdout",
     "output_type": "stream",
     "text": [
      "[1 3 4 8 9]\n",
      "(5,)\n",
      "int32\n",
      "1\n",
      "5\n",
      "4\n"
     ]
    }
   ],
   "source": [
    "a=np.array([1,3,4,8,9])\n",
    "print(a)\n",
    "print(a.shape)\n",
    "print(a.dtype)\n",
    "print(a.ndim)\n",
    "print(a.size)\n",
    "print(a.itemsize)"
   ]
  },
  {
   "cell_type": "markdown",
   "id": "96e03f1f-45bd-45f7-bd81-0c736b29e815",
   "metadata": {},
   "source": [
    "# Acessing and asigning values in the array"
   ]
  },
  {
   "cell_type": "code",
   "execution_count": 27,
   "id": "234700fa-bdf8-4d26-9291-cc47b5e86732",
   "metadata": {},
   "outputs": [
    {
     "name": "stdout",
     "output_type": "stream",
     "text": [
      "1\n",
      "[20  3  4  8  9]\n",
      "[40  9 24 56  9]\n"
     ]
    }
   ],
   "source": [
    "a=np.array([1,3,4,8,9])\n",
    "print(a[0])\n",
    "# assigning the values of the 0 index to another value\n",
    "a[0]=20\n",
    "print(a)\n",
    "\n",
    "b=a*np.array([2,3,6,7,1])\n",
    "print(b)"
   ]
  },
  {
   "cell_type": "markdown",
   "id": "b8c121a2-30f1-429e-873a-e138f8d82fb7",
   "metadata": {},
   "source": [
    "# Difference between python list and array"
   ]
  },
  {
   "cell_type": "code",
   "execution_count": 32,
   "id": "940568be-b7a5-4899-a690-e05c820b9e47",
   "metadata": {},
   "outputs": [
    {
     "name": "stdout",
     "output_type": "stream",
     "text": [
      "20\n"
     ]
    }
   ],
   "source": [
    "l=[1,2,3]\n",
    "m=[2,3,4]\n",
    "dot=0\n",
    "for i in range(len(l)):\n",
    "    dot+=l[i]*m[i]\n",
    "print(dot)\n"
   ]
  },
  {
   "cell_type": "markdown",
   "id": "f682b940-2fa9-4f45-b757-cad24d2f3b7a",
   "metadata": {},
   "source": [
    "# in numpy it is calculated faster and in one line\n"
   ]
  },
  {
   "cell_type": "code",
   "execution_count": 41,
   "id": "1aa897a4-e61a-4bf5-92ea-05ae1679a509",
   "metadata": {},
   "outputs": [
    {
     "name": "stdout",
     "output_type": "stream",
     "text": [
      "20\n",
      "20\n"
     ]
    }
   ],
   "source": [
    "a=np.array([1,2,3])\n",
    "b=np.array([2,3,4])\n",
    "c=np.dot(a,b)\n",
    "print(c)\n",
    "\n",
    "newdot=a@b\n",
    "print(newdot)"
   ]
  },
  {
   "cell_type": "markdown",
   "id": "a3c28c7d-8e5a-44cf-bd50-1a98637f254b",
   "metadata": {},
   "source": [
    "# Multidimensional Array"
   ]
  },
  {
   "cell_type": "code",
   "execution_count": 62,
   "id": "e7202fe7-9279-44cc-a4d9-d070c4881154",
   "metadata": {},
   "outputs": [
    {
     "name": "stdout",
     "output_type": "stream",
     "text": [
      "(2, 3)\n",
      "[[2 3 4]\n",
      " [4 5 7]]\n",
      "6\n",
      "3\n",
      "3\n",
      "[4 7]\n",
      "[2 3 4]\n"
     ]
    }
   ],
   "source": [
    "a=np.array([[2,3,4],[4,5,7]])\n",
    "print(a.shape)\n",
    "print(a)\n",
    "print(a.size)\n",
    "print(a[0][1])\n",
    "print(a[0,1])\n",
    "#SLicing of the md array\n",
    "print(a[:,2])\n",
    "print(a[0,:])"
   ]
  },
  {
   "cell_type": "markdown",
   "id": "a971f6fa-2a64-4a5a-83ae-87ad493c6b01",
   "metadata": {},
   "source": [
    "# Applying different properties of the multidimensional array "
   ]
  },
  {
   "cell_type": "code",
   "execution_count": 79,
   "id": "d92386db-4318-48cc-ab84-7fd834ef0a66",
   "metadata": {},
   "outputs": [
    {
     "name": "stdout",
     "output_type": "stream",
     "text": [
      "[[-4.66666667  3.         -0.33333333]\n",
      " [-2.33333333  2.         -0.66666667]\n",
      " [ 4.33333333 -3.          0.66666667]]\n",
      "[[2 4 5]\n",
      " [3 5 3]\n",
      " [4 7 7]]\n",
      "-2.9999999999999982\n",
      "[[2 0 0]\n",
      " [0 5 0]\n",
      " [0 0 7]]\n"
     ]
    }
   ],
   "source": [
    "a=np.array([[2,3,4],[4,5,7],[5,3,7]])\n",
    "# finding the inverse of the matrix // note for finding the inverse of the matrix square matrix should be there\n",
    "print(np.linalg.inv(a))\n",
    "# finding the transpose of the matrix\n",
    "print(a.T)\n",
    "print(np.linalg.det(a))\n",
    "#finding the diagnol of the matrix\n",
    "c=np.diag(a)\n",
    "\n",
    "print(np.diag(c))"
   ]
  },
  {
   "cell_type": "markdown",
   "id": "915858a8-443e-4e58-9e58-39c907e642da",
   "metadata": {},
   "source": [
    "# checking the boolean\n"
   ]
  },
  {
   "cell_type": "code",
   "execution_count": 94,
   "id": "cdbf341a-d459-454d-9e4a-b2a4a4cc343e",
   "metadata": {},
   "outputs": [
    {
     "name": "stdout",
     "output_type": "stream",
     "text": [
      "[[2 3]\n",
      " [4 6]\n",
      " [1 3]]\n",
      "[[False False]\n",
      " [ True  True]\n",
      " [False False]]\n",
      "[4 6]\n",
      "[[0 0]\n",
      " [4 6]\n",
      " [0 0]]\n"
     ]
    }
   ],
   "source": [
    "a=np.array([[2,3],[4,6],[1,3]])\n",
    "print(a)\n",
    "\n",
    "# check if the number in the array is greater than 3 then print 0\n",
    "check= a>3\n",
    "print(check)\n",
    "# in one line easy way also it can be done such as\n",
    "print(a[a>3])\n",
    "\n",
    "b=np.where(a>3,a,0)\n",
    "print(b)\n"
   ]
  },
  {
   "cell_type": "markdown",
   "id": "57d5189a-af87-4bb7-b192-7489d7d6aa55",
   "metadata": {},
   "source": [
    "# Fancy indexing"
   ]
  },
  {
   "cell_type": "code",
   "execution_count": 97,
   "id": "d2fa3a19-3130-4d9b-a15a-f2db1b5b137d",
   "metadata": {},
   "outputs": [
    {
     "name": "stdout",
     "output_type": "stream",
     "text": [
      "[7 9 6]\n"
     ]
    }
   ],
   "source": [
    "a=np.array([2,5,7,8,9,5,1,6])\n",
    "b=[2,4,7]\n",
    "print(a[b])"
   ]
  },
  {
   "cell_type": "markdown",
   "id": "efc03de9-cf4c-40a6-9497-b3206e9587da",
   "metadata": {},
   "source": [
    "# Common usecase of it\n"
   ]
  },
  {
   "cell_type": "code",
   "execution_count": 102,
   "id": "a3966961-aa70-4b7a-91dd-ca4f0c3b170e",
   "metadata": {},
   "outputs": [
    {
     "name": "stdout",
     "output_type": "stream",
     "text": [
      "[ 2  4  8 10 16 14]\n"
     ]
    }
   ],
   "source": [
    "a=np.array([2,3,4,8,10,11,16,14])\n",
    "even=np.argwhere(a%2==0).flatten()\n",
    "print(a[even])"
   ]
  },
  {
   "cell_type": "markdown",
   "id": "2a614da3-71dc-4508-8f6f-f29daf322e16",
   "metadata": {},
   "source": [
    "# Creating sequence "
   ]
  },
  {
   "cell_type": "code",
   "execution_count": 16,
   "id": "a4dc8591-6e2e-4267-9157-53cc9cdc0512",
   "metadata": {},
   "outputs": [
    {
     "name": "stdout",
     "output_type": "stream",
     "text": [
      "[1 3 5 7 9]\n",
      "[2 4 6 8]\n",
      "[1 2 3 4 5 6 7 8 9]\n"
     ]
    }
   ],
   "source": [
    "# printing the first 5 odd number using arange keyword\n",
    "a=np.arange(1,10,2)\n",
    "print(a)\n",
    "b=np.arange(2,10,2)\n",
    "print(b)\n",
    "c=np.arange(1,10)\n",
    "print(c)\n",
    "\n"
   ]
  },
  {
   "cell_type": "markdown",
   "id": "0c3a1d00-c1c5-4585-ae85-5c8bda3aaa61",
   "metadata": {},
   "source": [
    "# Reshaping the arrays"
   ]
  },
  {
   "cell_type": "code",
   "execution_count": 29,
   "id": "d80adf24-8099-4de4-9e5d-ae7dbfdafe37",
   "metadata": {},
   "outputs": [
    {
     "name": "stdout",
     "output_type": "stream",
     "text": [
      "[1 2 3 4 5 6 7 8]\n",
      "[[1 2 3 4]\n",
      " [5 6 7 8]]\n",
      "(2, 4)\n"
     ]
    }
   ],
   "source": [
    "a=np.arange(1,9)\n",
    "print(a)\n",
    "b=a.reshape((2,4))\n",
    "print(b)\n",
    "print(b.shape)"
   ]
  },
  {
   "cell_type": "markdown",
   "id": "9fd0e2a3-04f6-46f1-971d-b981c83512a6",
   "metadata": {},
   "source": [
    "# BroadCasting \n"
   ]
  },
  {
   "cell_type": "code",
   "execution_count": 34,
   "id": "87441304-c7dc-43f7-8f5b-168a8b82d1c0",
   "metadata": {},
   "outputs": [
    {
     "name": "stdout",
     "output_type": "stream",
     "text": [
      "[[3 5 6]\n",
      " [3 1 9]\n",
      " [6 8 9]]\n"
     ]
    }
   ],
   "source": [
    "a=np.array([[2,4,5],[2,0,8],[5,7,8]])\n",
    "b=np.array([1,1,1])\n",
    "c=a+b\n",
    "print(c)"
   ]
  },
  {
   "cell_type": "markdown",
   "id": "7887292e-c0d1-4c44-8190-9de1cbe036ce",
   "metadata": {},
   "source": [
    "# Some functions used in the data science for future"
   ]
  },
  {
   "cell_type": "code",
   "execution_count": 39,
   "id": "884324cc-ad3b-4f9d-8bc1-9b173671bea7",
   "metadata": {},
   "outputs": [
    {
     "name": "stdout",
     "output_type": "stream",
     "text": [
      "[[ 1  2  5  7  8  9 12]\n",
      " [40 23  1  7  8  9 55]]\n"
     ]
    }
   ],
   "source": [
    "a=np.array([[1,2,5,7,8,9,12],[40,23,1,7,8,9,55]])\n",
    "print(a)"
   ]
  },
  {
   "cell_type": "code",
   "execution_count": 61,
   "id": "2218c9c5-97e7-4dea-ac89-2d044aca9a60",
   "metadata": {},
   "outputs": [
    {
     "name": "stdout",
     "output_type": "stream",
     "text": [
      "187\n",
      "187\n",
      "[41 25  6 14 16 18 67]\n",
      "[ 44 143]\n",
      "[20.5 12.5  3.   7.   8.   9.  33.5]\n",
      "15.163900472867144\n",
      "229.9438775510204\n",
      "[ 1  2  1  7  8  9 12]\n",
      "[1 1]\n"
     ]
    }
   ],
   "source": [
    "print(a.sum())\n",
    "print(a.sum(axis=None))  #by default the axis will be none\n",
    "print(a.sum(axis=0))     #when axis=0 it will sum the elements of the column (vertical sum)\n",
    "print(a.sum(axis=1))     # when axis=1 it will sum the elements of the row   (horizontal sum)\n",
    "print(a.mean(axis=0))    # it will find the mean of the column\n",
    "print(a.std())           # it will find the standard deviation of the following data\n",
    "print(a.var())           # it will print the variance of the following data\n",
    "print(a.min(axis=0))     # it will print the min value between the columns\n",
    "print(a.min(axis=1))   # it will print the min values between the rows\n",
    "##### same wise the max function can also be used to find the maximum value between the column and the rows\n",
    "\n"
   ]
  },
  {
   "cell_type": "code",
   "execution_count": 71,
   "id": "cc78d712-963c-4368-83d8-3b2474d56555",
   "metadata": {},
   "outputs": [
    {
     "name": "stdout",
     "output_type": "stream",
     "text": [
      "[1 2]\n",
      "int64\n"
     ]
    }
   ],
   "source": [
    "a=np.array([1.0,2.0],dtype=np.int64)\n",
    "print(a)\n",
    "print(a.dtype)"
   ]
  },
  {
   "cell_type": "markdown",
   "id": "1b1bcdb0-9cbb-495a-9c3b-0585a3694fde",
   "metadata": {},
   "source": [
    "# Revison and new concepts\n"
   ]
  },
  {
   "cell_type": "markdown",
   "id": "7c40e9cd-455a-4375-806f-89cc6aec0847",
   "metadata": {},
   "source": [
    "# Single dimension array"
   ]
  },
  {
   "cell_type": "code",
   "execution_count": 21,
   "id": "a083bc63-723a-43eb-a108-af078ee68cc5",
   "metadata": {},
   "outputs": [
    {
     "data": {
      "text/plain": [
       "4"
      ]
     },
     "execution_count": 21,
     "metadata": {},
     "output_type": "execute_result"
    }
   ],
   "source": [
    "import numpy as np\n",
    "n1=np.array([10,20,30,40])\n",
    "n1\n",
    "n1.shape\n",
    "n1.ndim\n",
    "n1.itemsize"
   ]
  },
  {
   "cell_type": "markdown",
   "id": "d54b8270-4cd7-485e-8269-5c28570a4d6e",
   "metadata": {},
   "source": [
    "# Multidemensional Array\n"
   ]
  },
  {
   "cell_type": "code",
   "execution_count": 28,
   "id": "d4fa2b2d-b544-447a-83f3-536bbe3cd2d4",
   "metadata": {},
   "outputs": [
    {
     "data": {
      "text/plain": [
       "(3, 3)"
      ]
     },
     "execution_count": 28,
     "metadata": {},
     "output_type": "execute_result"
    }
   ],
   "source": [
    "a=np.array([[1,2,3],[2,3,4],[8,9,7]])\n",
    "a\n",
    "a.ndim\n",
    "a.shape\n"
   ]
  },
  {
   "cell_type": "markdown",
   "id": "fb30a8e9-dcde-4070-a7d2-8fe11cf1a7de",
   "metadata": {},
   "source": [
    "# initialize the numpy arrays with zeros"
   ]
  },
  {
   "cell_type": "code",
   "execution_count": 34,
   "id": "40a33ba2-f55d-40c5-9e13-5ab3beb6a38f",
   "metadata": {},
   "outputs": [
    {
     "data": {
      "text/plain": [
       "array([[0., 0., 0.],\n",
       "       [0., 0., 0.]])"
      ]
     },
     "execution_count": 34,
     "metadata": {},
     "output_type": "execute_result"
    }
   ],
   "source": [
    "a=np.zeros((2,3))\n",
    "a"
   ]
  },
  {
   "cell_type": "code",
   "execution_count": 38,
   "id": "9683ae1d-a7fa-474d-82fa-59c96fb9170f",
   "metadata": {},
   "outputs": [
    {
     "data": {
      "text/plain": [
       "array([[7, 7, 7],\n",
       "       [7, 7, 7],\n",
       "       [7, 7, 7]])"
      ]
     },
     "execution_count": 38,
     "metadata": {},
     "output_type": "execute_result"
    }
   ],
   "source": [
    "b=np.full((3,3),7)\n",
    "b"
   ]
  },
  {
   "cell_type": "markdown",
   "id": "e09f6328-718f-4ca1-a1f7-8316a65677be",
   "metadata": {},
   "source": [
    "# Initializing the numpy with range"
   ]
  },
  {
   "cell_type": "markdown",
   "id": "0b113a1d-8dda-4797-a0c8-054cb93bad15",
   "metadata": {},
   "source": [
    "c=np.arange(1,10)\n",
    "c"
   ]
  },
  {
   "cell_type": "markdown",
   "id": "b0498582-0783-4479-9825-ae1c6423d5d0",
   "metadata": {},
   "source": [
    "# Skip the numbers"
   ]
  },
  {
   "cell_type": "code",
   "execution_count": 44,
   "id": "c438a91d-e066-46e9-88aa-408214d0d624",
   "metadata": {},
   "outputs": [
    {
     "data": {
      "text/plain": [
       "array([1, 3, 5, 7, 9])"
      ]
     },
     "execution_count": 44,
     "metadata": {},
     "output_type": "execute_result"
    }
   ],
   "source": [
    "d=np.arange(1,10,2)\n",
    "d"
   ]
  },
  {
   "cell_type": "markdown",
   "id": "1f05ca37-c536-48d2-8112-caf3df97be86",
   "metadata": {},
   "source": [
    "# initialize with the random number"
   ]
  },
  {
   "cell_type": "code",
   "execution_count": 50,
   "id": "6d6dabcc-8ea9-436e-a359-b0ad578e6352",
   "metadata": {},
   "outputs": [
    {
     "data": {
      "text/plain": [
       "array([11975, 64397, 25892, 54933,  5628])"
      ]
     },
     "execution_count": 50,
     "metadata": {},
     "output_type": "execute_result"
    }
   ],
   "source": [
    "e=np.random.randint(100,100000,5)\n",
    "e"
   ]
  },
  {
   "cell_type": "markdown",
   "id": "494bdc0a-59ed-42a7-bdee-e03dd0f181b2",
   "metadata": {},
   "source": [
    "# initialization the array shape changes in a fraction of second"
   ]
  },
  {
   "cell_type": "code",
   "execution_count": 58,
   "id": "d2468cce-6a56-4e4a-adf5-176c1c26a42a",
   "metadata": {},
   "outputs": [
    {
     "data": {
      "text/plain": [
       "array([[1, 2, 3],\n",
       "       [4, 5, 7],\n",
       "       [8, 9, 4],\n",
       "       [8, 3, 3]])"
      ]
     },
     "execution_count": 58,
     "metadata": {},
     "output_type": "execute_result"
    }
   ],
   "source": [
    "f=np.array([[1,2,3],[4,5,7],[8,9,4],[8,3,3]])\n",
    "f"
   ]
  },
  {
   "cell_type": "code",
   "execution_count": 60,
   "id": "d2fc0340-500c-4999-b5d9-8b45f048906c",
   "metadata": {},
   "outputs": [
    {
     "data": {
      "text/plain": [
       "(4, 3)"
      ]
     },
     "execution_count": 60,
     "metadata": {},
     "output_type": "execute_result"
    }
   ],
   "source": [
    "f.shape"
   ]
  },
  {
   "cell_type": "code",
   "execution_count": 66,
   "id": "703fe67c-64bf-4f39-b632-8a621fed6f5d",
   "metadata": {},
   "outputs": [
    {
     "data": {
      "text/plain": [
       "array([[1, 2, 3, 4],\n",
       "       [5, 7, 8, 9],\n",
       "       [4, 8, 3, 3]])"
      ]
     },
     "execution_count": 66,
     "metadata": {},
     "output_type": "execute_result"
    }
   ],
   "source": [
    "f.shape=(3,4)\n",
    "f"
   ]
  },
  {
   "cell_type": "markdown",
   "id": "d9ffee28-652e-4a6f-bfca-f563820d2cc3",
   "metadata": {},
   "source": [
    "# joining the numpy array\n"
   ]
  },
  {
   "cell_type": "code",
   "execution_count": 73,
   "id": "337035ac-cb21-4bc2-b245-a14054833534",
   "metadata": {},
   "outputs": [
    {
     "data": {
      "text/plain": [
       "array([10, 20, 30, 30, 40, 50])"
      ]
     },
     "execution_count": 73,
     "metadata": {},
     "output_type": "execute_result"
    }
   ],
   "source": [
    "a=np.array([10,20,30])\n",
    "b=np.array([30,40,50])\n",
    "np.vstack((a,b)) #it will add vertically means column wise\n",
    "np.hstack((a,b))  # it will addd all in horizontal"
   ]
  },
  {
   "cell_type": "code",
   "execution_count": 75,
   "id": "ff9082e5-88c7-4b2f-bda4-fbcd3afb9f53",
   "metadata": {},
   "outputs": [
    {
     "data": {
      "text/plain": [
       "array([[ 1,  2,  4],\n",
       "       [ 5,  7,  3],\n",
       "       [ 3,  0, 40],\n",
       "       [10, 22, 44]])"
      ]
     },
     "execution_count": 75,
     "metadata": {},
     "output_type": "execute_result"
    }
   ],
   "source": [
    "a=np.array([1,2,4])\n",
    "b=np.array([5,7,3])\n",
    "c=np.array([3,0,40])\n",
    "d=np.array([10,22,44])\n",
    "np.vstack((a,b,c,d))\n"
   ]
  },
  {
   "cell_type": "code",
   "execution_count": 77,
   "id": "d56e1124-bb8e-4360-bfc8-1ed25ba1a593",
   "metadata": {},
   "outputs": [
    {
     "data": {
      "text/plain": [
       "array([ 1,  2,  4,  5,  7,  3,  3,  0, 40, 10, 22, 44])"
      ]
     },
     "execution_count": 77,
     "metadata": {},
     "output_type": "execute_result"
    }
   ],
   "source": [
    "np.hstack((a,b,c,d))"
   ]
  },
  {
   "cell_type": "markdown",
   "id": "cff61ce4-b29f-4fe6-a684-7dc138c9cbe6",
   "metadata": {},
   "source": [
    "# numpy intersection and difference"
   ]
  },
  {
   "cell_type": "code",
   "execution_count": null,
   "id": "1b5f069d-fd98-4c37-b703-5fd7eb01fb0e",
   "metadata": {},
   "outputs": [],
   "source": []
  }
 ],
 "metadata": {
  "kernelspec": {
   "display_name": "Python [conda env:base] *",
   "language": "python",
   "name": "conda-base-py"
  },
  "language_info": {
   "codemirror_mode": {
    "name": "ipython",
    "version": 3
   },
   "file_extension": ".py",
   "mimetype": "text/x-python",
   "name": "python",
   "nbconvert_exporter": "python",
   "pygments_lexer": "ipython3",
   "version": "3.12.7"
  }
 },
 "nbformat": 4,
 "nbformat_minor": 5
}
