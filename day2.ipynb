{
 "cells": [
  {
   "cell_type": "code",
   "execution_count": 4,
   "id": "978801c5-6a22-466b-819a-61658b62cc59",
   "metadata": {},
   "outputs": [
    {
     "name": "stdout",
     "output_type": "stream",
     "text": [
      "[ 1 20  3  4  5  6]\n",
      "[10  2  3  4  5  6]\n",
      "[ 1 20  3  4  5  6]\n"
     ]
    }
   ],
   "source": [
    "import numpy as np\n",
    "a=np.array([1,2,3,4,5,6])\n",
    "b=a.copy()\n",
    "c=a.view()\n",
    "c[1]=20\n",
    "b[0]=10\n",
    "print(c)\n",
    "print(b)\n",
    "print(a)"
   ]
  },
  {
   "cell_type": "code",
   "execution_count": 7,
   "id": "dc455da3-32bb-441c-aaaf-b598cabd0dbc",
   "metadata": {},
   "outputs": [
    {
     "name": "stdout",
     "output_type": "stream",
     "text": [
      "[3 4 5 6]\n"
     ]
    }
   ],
   "source": [
    "a=np.array([1,2,3,4,5,6])\n",
    "print(a[a>2])\n"
   ]
  },
  {
   "cell_type": "markdown",
   "id": "84ccf4d4-451a-499d-8079-610075d6c050",
   "metadata": {},
   "source": [
    "# numpy intersection and difference"
   ]
  },
  {
   "cell_type": "code",
   "execution_count": 10,
   "id": "1544a94d-bc8e-4938-99d7-84e350bf566a",
   "metadata": {},
   "outputs": [
    {
     "data": {
      "text/plain": [
       "array([10, 20, 44, 50])"
      ]
     },
     "execution_count": 10,
     "metadata": {},
     "output_type": "execute_result"
    }
   ],
   "source": [
    "x=np.array([10,20,50,60,89,12,133,44,55,66,77,89,10])\n",
    "y=np.array([20,30,40,10,50,70,80,20,11,22,44,88,90])\n",
    "np.intersect1d(x,y)"
   ]
  },
  {
   "cell_type": "markdown",
   "id": "7ad5b570-57c9-46d5-a08e-9d046f25d2aa",
   "metadata": {},
   "source": [
    "# difference"
   ]
  },
  {
   "cell_type": "code",
   "execution_count": 13,
   "id": "882dfa8e-3dae-4d20-baaf-5c029eaf4ec3",
   "metadata": {},
   "outputs": [
    {
     "data": {
      "text/plain": [
       "array([ 12,  55,  60,  66,  77,  89, 133])"
      ]
     },
     "execution_count": 13,
     "metadata": {},
     "output_type": "execute_result"
    }
   ],
   "source": [
    "x=np.array([10,20,50,60,89,12,133,44,55,66,77,89,10])\n",
    "y=np.array([20,30,40,10,50,70,80,20,11,22,44,88,90])\n",
    "np.setdiff1d(x,y)"
   ]
  },
  {
   "cell_type": "markdown",
   "id": "30474e5d-5688-4a04-a1f5-07bab7d5edef",
   "metadata": {},
   "source": [
    "# Addition of the numpy"
   ]
  },
  {
   "cell_type": "code",
   "execution_count": 16,
   "id": "26151999-b93d-4a23-a5a7-a7d8dd27d25a",
   "metadata": {},
   "outputs": [
    {
     "data": {
      "text/plain": [
       "315"
      ]
     },
     "execution_count": 16,
     "metadata": {},
     "output_type": "execute_result"
    }
   ],
   "source": [
    "t=np.array([40,90])\n",
    "s=np.array([99,86])\n",
    "np.sum([t,s])"
   ]
  },
  {
   "cell_type": "code",
   "execution_count": 18,
   "id": "d7de2278-39d9-4895-8cc3-01672d00ece2",
   "metadata": {},
   "outputs": [
    {
     "data": {
      "text/plain": [
       "array([139, 176])"
      ]
     },
     "execution_count": 18,
     "metadata": {},
     "output_type": "execute_result"
    }
   ],
   "source": [
    "np.sum([t,s],axis=0) # it will add the rowssss"
   ]
  },
  {
   "cell_type": "code",
   "execution_count": 20,
   "id": "9db1b132-e6c7-494f-8740-8d47158de509",
   "metadata": {},
   "outputs": [
    {
     "data": {
      "text/plain": [
       "array([130, 185])"
      ]
     },
     "execution_count": 20,
     "metadata": {},
     "output_type": "execute_result"
    }
   ],
   "source": [
    "np.sum([t,s],axis=1)  # it will add the columns"
   ]
  },
  {
   "cell_type": "markdown",
   "id": "599c8ace-252e-4e38-a218-d538c7ee8d9e",
   "metadata": {},
   "source": [
    "# array mathematics"
   ]
  },
  {
   "cell_type": "code",
   "execution_count": 23,
   "id": "6cdaf312-8e4f-4d0f-b66a-bf908e1fffa0",
   "metadata": {},
   "outputs": [
    {
     "data": {
      "text/plain": [
       "array([21, 31, 41])"
      ]
     },
     "execution_count": 23,
     "metadata": {},
     "output_type": "execute_result"
    }
   ],
   "source": [
    "p=np.array([20,30,40])\n",
    "p+1"
   ]
  },
  {
   "cell_type": "code",
   "execution_count": 25,
   "id": "8a89c322-0424-40d5-bd3b-92a858c91c79",
   "metadata": {},
   "outputs": [
    {
     "data": {
      "text/plain": [
       "array([10., 15., 20.])"
      ]
     },
     "execution_count": 25,
     "metadata": {},
     "output_type": "execute_result"
    }
   ],
   "source": [
    "p/2"
   ]
  },
  {
   "cell_type": "code",
   "execution_count": 27,
   "id": "5da15573-c101-455b-b000-e810d930e2a4",
   "metadata": {},
   "outputs": [
    {
     "data": {
      "text/plain": [
       "array([40, 60, 80])"
      ]
     },
     "execution_count": 27,
     "metadata": {},
     "output_type": "execute_result"
    }
   ],
   "source": [
    "p*2"
   ]
  },
  {
   "cell_type": "code",
   "execution_count": 31,
   "id": "75dd849b-bcb4-467c-8f7a-f35358a204f7",
   "metadata": {},
   "outputs": [
    {
     "data": {
      "text/plain": [
       "array([ 8000, 27000, 64000], dtype=int32)"
      ]
     },
     "execution_count": 31,
     "metadata": {},
     "output_type": "execute_result"
    }
   ],
   "source": [
    "p**len(p)"
   ]
  },
  {
   "cell_type": "markdown",
   "id": "42a2ce13-c84a-4677-88d0-3b7d6b390801",
   "metadata": {},
   "source": [
    "# numpy maths functions"
   ]
  },
  {
   "cell_type": "code",
   "execution_count": 34,
   "id": "74327a69-5bff-4615-8447-4ab5f46c36f0",
   "metadata": {},
   "outputs": [
    {
     "data": {
      "text/plain": [
       "36.75"
      ]
     },
     "execution_count": 34,
     "metadata": {},
     "output_type": "execute_result"
    }
   ],
   "source": [
    "a=np.array([2,30,50,80,90,12,14,16])\n",
    "np.mean(a)"
   ]
  },
  {
   "cell_type": "code",
   "execution_count": 36,
   "id": "25206fd5-8a43-40b8-bb10-fee3d39ea7fc",
   "metadata": {},
   "outputs": [
    {
     "data": {
      "text/plain": [
       "23.0"
      ]
     },
     "execution_count": 36,
     "metadata": {},
     "output_type": "execute_result"
    }
   ],
   "source": [
    "np.median(a)"
   ]
  },
  {
   "cell_type": "code",
   "execution_count": 38,
   "id": "a78533e1-44ce-4538-840d-5616da10df6c",
   "metadata": {},
   "outputs": [
    {
     "data": {
      "text/plain": [
       "31.015117281738593"
      ]
     },
     "execution_count": 38,
     "metadata": {},
     "output_type": "execute_result"
    }
   ],
   "source": [
    "np.std(a)"
   ]
  },
  {
   "cell_type": "code",
   "execution_count": 40,
   "id": "94ed9cfe-0b3d-41d0-a298-7c0960b9fa06",
   "metadata": {},
   "outputs": [
    {
     "data": {
      "text/plain": [
       "961.9375"
      ]
     },
     "execution_count": 40,
     "metadata": {},
     "output_type": "execute_result"
    }
   ],
   "source": [
    "np.var(a)"
   ]
  },
  {
   "cell_type": "code",
   "execution_count": 46,
   "id": "a6e8c8ba-7ffa-4934-ac67-649f91d3d524",
   "metadata": {},
   "outputs": [
    {
     "data": {
      "text/plain": [
       "0.8783100656536798"
      ]
     },
     "execution_count": 46,
     "metadata": {},
     "output_type": "execute_result"
    }
   ],
   "source": [
    "b=np.array([10,20,30,40,50,60])\n",
    "c=(b[4]-np.mean(b))/np.std(b)\n",
    "c\n"
   ]
  },
  {
   "cell_type": "markdown",
   "id": "2cdaaafa-3c69-405b-b473-e635c71de35b",
   "metadata": {},
   "source": [
    "# Saving and loading numpy array"
   ]
  },
  {
   "cell_type": "code",
   "execution_count": 49,
   "id": "9e9d7c37-73a1-4515-b8a9-00d0ea7f7643",
   "metadata": {},
   "outputs": [],
   "source": [
    "n11=np.array([10,20,30,40,60,80])\n",
    "np.save('my_name',n11)\n"
   ]
  },
  {
   "cell_type": "code",
   "execution_count": 51,
   "id": "5237afa6-68f0-4dc5-9884-63ca6577e51e",
   "metadata": {},
   "outputs": [
    {
     "data": {
      "text/plain": [
       "array([10, 20, 30, 40, 60, 80])"
      ]
     },
     "execution_count": 51,
     "metadata": {},
     "output_type": "execute_result"
    }
   ],
   "source": [
    "np.load('my_name.npy')"
   ]
  },
  {
   "cell_type": "markdown",
   "id": "9eddfd1a-644b-4603-8bda-1dab885fa724",
   "metadata": {},
   "source": [
    "# linespace"
   ]
  },
  {
   "cell_type": "code",
   "execution_count": 56,
   "id": "fb89c938-3ed9-4a93-bb30-c9c7fb7e605d",
   "metadata": {},
   "outputs": [
    {
     "data": {
      "text/plain": [
       "array([ 10.,  20.,  30.,  40.,  50.,  60.,  70.,  80.,  90., 100.])"
      ]
     },
     "execution_count": 56,
     "metadata": {},
     "output_type": "execute_result"
    }
   ],
   "source": [
    "import numpy as np\n",
    "np.linspace(10,100,10)"
   ]
  },
  {
   "cell_type": "markdown",
   "id": "e23b2450-49d0-45a4-8a34-53c635ec5710",
   "metadata": {},
   "source": [
    "help(np.linspace)"
   ]
  },
  {
   "cell_type": "markdown",
   "id": "3e505d4a-dcc4-49f6-baae-e0f45f8bd038",
   "metadata": {},
   "source": [
    "# Uniform samples\n"
   ]
  },
  {
   "cell_type": "code",
   "execution_count": 61,
   "id": "baea2b40-1cbc-421a-9622-1af93cd1d52b",
   "metadata": {},
   "outputs": [
    {
     "data": {
      "text/plain": [
       "array([7.87427376, 5.80609356, 5.76558868, 5.79401061])"
      ]
     },
     "execution_count": 61,
     "metadata": {},
     "output_type": "execute_result"
    }
   ],
   "source": [
    "np.random.uniform(5,10,size=4)"
   ]
  },
  {
   "cell_type": "code",
   "execution_count": 63,
   "id": "eecf8700-6e15-41d4-8aed-af4462dd21ed",
   "metadata": {},
   "outputs": [
    {
     "data": {
      "text/plain": [
       "array([0.21452677, 0.51648311, 0.78925918, 0.79885866, 0.94313557])"
      ]
     },
     "execution_count": 63,
     "metadata": {},
     "output_type": "execute_result"
    }
   ],
   "source": [
    "np.random.uniform(size=5)"
   ]
  },
  {
   "cell_type": "code",
   "execution_count": 65,
   "id": "d7d3810e-fc2c-4551-b030-703b298550a0",
   "metadata": {},
   "outputs": [
    {
     "data": {
      "text/plain": [
       "array([[0.92966276, 0.47554574, 0.82677431],\n",
       "       [0.86894765, 0.94977244, 0.45943504]])"
      ]
     },
     "execution_count": 65,
     "metadata": {},
     "output_type": "execute_result"
    }
   ],
   "source": [
    "np.random.uniform(size=(2,3))"
   ]
  },
  {
   "cell_type": "code",
   "execution_count": 67,
   "id": "c8a88b71-78a5-444a-b9fe-c6bff78b6daa",
   "metadata": {},
   "outputs": [
    {
     "data": {
      "text/plain": [
       "array([1.00000000e+00, 5.65685425e+00, 3.20000000e+01, 1.81019336e+02,\n",
       "       1.02400000e+03])"
      ]
     },
     "execution_count": 67,
     "metadata": {},
     "output_type": "execute_result"
    }
   ],
   "source": [
    "np.logspace(0,10,5,base=2)"
   ]
  },
  {
   "cell_type": "markdown",
   "id": "452a9f9d-bd82-4ae1-8636-c1fab03015a6",
   "metadata": {},
   "source": [
    "# identity matrix"
   ]
  },
  {
   "cell_type": "code",
   "execution_count": 70,
   "id": "6439144f-a304-4a02-8dee-40209508528b",
   "metadata": {},
   "outputs": [
    {
     "data": {
      "text/plain": [
       "array([[1., 0., 0., 0.],\n",
       "       [0., 1., 0., 0.],\n",
       "       [0., 0., 1., 0.],\n",
       "       [0., 0., 0., 1.]])"
      ]
     },
     "execution_count": 70,
     "metadata": {},
     "output_type": "execute_result"
    }
   ],
   "source": [
    "np.identity(4)"
   ]
  },
  {
   "cell_type": "code",
   "execution_count": 83,
   "id": "aa0c2274-704b-4736-9f78-926a9b4be90f",
   "metadata": {},
   "outputs": [
    {
     "data": {
      "text/plain": [
       "20"
      ]
     },
     "execution_count": 83,
     "metadata": {},
     "output_type": "execute_result"
    }
   ],
   "source": [
    "a=np.array([20,40,80,90,44,66,77,22,22,30])\n",
    "np.min(a)"
   ]
  },
  {
   "cell_type": "code",
   "execution_count": 74,
   "id": "971598cb-c4f6-4249-a0e2-fe89bfc40b93",
   "metadata": {},
   "outputs": [
    {
     "data": {
      "text/plain": [
       "90"
      ]
     },
     "execution_count": 74,
     "metadata": {},
     "output_type": "execute_result"
    }
   ],
   "source": [
    "np.max(a)"
   ]
  },
  {
   "cell_type": "code",
   "execution_count": 85,
   "id": "75d9f063-533f-45e2-95d8-d2b8f540641c",
   "metadata": {},
   "outputs": [
    {
     "data": {
      "text/plain": [
       "(array([20, 22, 30, 40, 44, 66, 77, 80, 90]),\n",
       " array([1, 2, 1, 1, 1, 1, 1, 1, 1], dtype=int64))"
      ]
     },
     "execution_count": 85,
     "metadata": {},
     "output_type": "execute_result"
    }
   ],
   "source": [
    "np.unique(a,return_counts=True)"
   ]
  },
  {
   "cell_type": "code",
   "execution_count": 87,
   "id": "9d3ca386-ecc6-4d2f-b086-e649923aa13b",
   "metadata": {},
   "outputs": [
    {
     "data": {
      "text/plain": [
       "array([0, 1, 3, 3, 4, 4], dtype=int64)"
      ]
     },
     "execution_count": 87,
     "metadata": {},
     "output_type": "execute_result"
    }
   ],
   "source": [
    "a=np.array([-0.7,0.4,2,2.4,4.7,5.3])\n",
    "bins=np.array([0,1,2,3])\n",
    "np.digitize(a,bins)"
   ]
  },
  {
   "cell_type": "markdown",
   "id": "ed3cdc0b-82fe-4832-8716-fbff55bc30b8",
   "metadata": {},
   "source": [
    "# Expand dimension"
   ]
  },
  {
   "cell_type": "code",
   "execution_count": 90,
   "id": "f1100358-9398-4d82-b1ce-f2c0c1a021e8",
   "metadata": {},
   "outputs": [
    {
     "data": {
      "text/plain": [
       "array([[ 8, 14,  5,  6, 77, 90, 23, 14, 15, 18]])"
      ]
     },
     "execution_count": 90,
     "metadata": {},
     "output_type": "execute_result"
    }
   ],
   "source": [
    "arr=np.array([8,14,5,6,77,90,23,14,15,18])\n",
    "np.expand_dims(arr,axis=0)"
   ]
  },
  {
   "cell_type": "code",
   "execution_count": 92,
   "id": "aef4e88b-41ed-4391-b54f-692e9bf6d691",
   "metadata": {},
   "outputs": [
    {
     "data": {
      "text/plain": [
       "array([[ 8],\n",
       "       [14],\n",
       "       [ 5],\n",
       "       [ 6],\n",
       "       [77],\n",
       "       [90],\n",
       "       [23],\n",
       "       [14],\n",
       "       [15],\n",
       "       [18]])"
      ]
     },
     "execution_count": 92,
     "metadata": {},
     "output_type": "execute_result"
    }
   ],
   "source": [
    "np.expand_dims(arr,axis=1)"
   ]
  },
  {
   "cell_type": "markdown",
   "id": "878fe404-b206-4ed2-8a12-24c6f3876b38",
   "metadata": {},
   "source": [
    "# squeeze"
   ]
  },
  {
   "cell_type": "code",
   "execution_count": 97,
   "id": "62d26ee2-4c09-45b3-ae62-e5f4b964fa0b",
   "metadata": {},
   "outputs": [
    {
     "data": {
      "text/plain": [
       "array([ 8, 12, 22, 60, 21,  9, 90])"
      ]
     },
     "execution_count": 97,
     "metadata": {},
     "output_type": "execute_result"
    }
   ],
   "source": [
    "arr=np.array([[8],[12],[22],[60],[21],[9],[90]])\n",
    "np.squeeze(arr)"
   ]
  },
  {
   "cell_type": "code",
   "execution_count": 103,
   "id": "2bd96f52-af1e-4a83-8ee5-61a411987aeb",
   "metadata": {},
   "outputs": [
    {
     "data": {
      "text/plain": [
       "5"
      ]
     },
     "execution_count": 103,
     "metadata": {},
     "output_type": "execute_result"
    }
   ],
   "source": [
    "a=np.array([0,0,0,1,2,3,4,5,0,0])\n",
    "np.count_nonzero(a)\n"
   ]
  },
  {
   "cell_type": "markdown",
   "id": "757e3bf2-8ea5-43a8-8e16-109f14f05042",
   "metadata": {},
   "source": [
    "# argwhere (anywhere)"
   ]
  },
  {
   "cell_type": "code",
   "execution_count": 106,
   "id": "2158ce88-6819-4955-a5ab-0953cdb9de18",
   "metadata": {},
   "outputs": [
    {
     "data": {
      "text/plain": [
       "array([[0],\n",
       "       [1],\n",
       "       [2],\n",
       "       [6],\n",
       "       [7],\n",
       "       [8]], dtype=int64)"
      ]
     },
     "execution_count": 106,
     "metadata": {},
     "output_type": "execute_result"
    }
   ],
   "source": [
    "arr=np.array([1,1,1,0,0,0,2,2,2])\n",
    "np.argwhere(arr)"
   ]
  },
  {
   "cell_type": "code",
   "execution_count": 112,
   "id": "c068acac-c5dc-4e91-92e5-4bb332e0668f",
   "metadata": {},
   "outputs": [
    {
     "data": {
      "text/plain": [
       "3"
      ]
     },
     "execution_count": 112,
     "metadata": {},
     "output_type": "execute_result"
    }
   ],
   "source": [
    "arr=np.array([[0.12,0.64,0.19,0.05]])\n",
    "np.argmax(arr)\n",
    "np.argmin(arr)"
   ]
  },
  {
   "cell_type": "code",
   "execution_count": 114,
   "id": "ccd171da-c513-483c-a478-626bdd617959",
   "metadata": {},
   "outputs": [
    {
     "data": {
      "text/plain": [
       "array([1, 2, 3, 4, 5, 7])"
      ]
     },
     "execution_count": 114,
     "metadata": {},
     "output_type": "execute_result"
    }
   ],
   "source": [
    "# sorting\n",
    "arr=np.array([2,3,1,7,4,5])\n",
    "np.sort(arr)"
   ]
  },
  {
   "cell_type": "code",
   "execution_count": 118,
   "id": "60f6fca2-6834-4f4a-ba93-030e09925b3d",
   "metadata": {},
   "outputs": [
    {
     "data": {
      "text/plain": [
       "array([[1, 3, 4],\n",
       "       [2, 4, 8]])"
      ]
     },
     "execution_count": 118,
     "metadata": {},
     "output_type": "execute_result"
    }
   ],
   "source": [
    "SA=np.array([[1,-3,4],[-2,-4,8]])\n",
    "np.abs(SA)"
   ]
  },
  {
   "cell_type": "markdown",
   "id": "112cc582-a7bb-47f9-a417-f58a9663a0f4",
   "metadata": {},
   "source": [
    "# clip"
   ]
  },
  {
   "cell_type": "code",
   "execution_count": 121,
   "id": "44e74db3-e2e6-46fd-97b0-991e31bf727b",
   "metadata": {},
   "outputs": [
    {
     "data": {
      "text/plain": [
       "array([0, 1, 0, 0, 5, 5, 5, 2, 3])"
      ]
     },
     "execution_count": 121,
     "metadata": {},
     "output_type": "execute_result"
    }
   ],
   "source": [
    "arr=np.array([0,1,-3,-4,5,6,7,2,3])\n",
    "arr.clip(0,5)"
   ]
  },
  {
   "cell_type": "markdown",
   "id": "bb9c15b9-7828-43de-9f93-97d91725fda9",
   "metadata": {},
   "source": [
    "# round"
   ]
  },
  {
   "cell_type": "code",
   "execution_count": 128,
   "id": "7439c7ec-e87e-4850-8f10-8c55b0558982",
   "metadata": {},
   "outputs": [
    {
     "data": {
      "text/plain": [
       "array([0., 1., 1., 2.])"
      ]
     },
     "execution_count": 128,
     "metadata": {},
     "output_type": "execute_result"
    }
   ],
   "source": [
    "arr=np.array([0.44,0.878787,0.555,1.888])\n",
    "np.round(arr,decimals=0)"
   ]
  },
  {
   "cell_type": "markdown",
   "id": "aa4139a8-2b51-4dcb-b28f-98294f8dbd0d",
   "metadata": {},
   "source": [
    "# replacing values inside array"
   ]
  },
  {
   "cell_type": "code",
   "execution_count": 133,
   "id": "65ee28bd-2510-431c-8229-247f27794e2f",
   "metadata": {},
   "outputs": [
    {
     "data": {
      "text/plain": [
       "array([7, 8, 9])"
      ]
     },
     "execution_count": 133,
     "metadata": {},
     "output_type": "execute_result"
    }
   ],
   "source": [
    "a=np.array([1,3,4,5,7,8,9])\n",
    "a[np.where(a>5)]"
   ]
  },
  {
   "cell_type": "markdown",
   "id": "541a2adf-05e4-438c-a9a7-6e94298d7918",
   "metadata": {},
   "source": [
    "# Put"
   ]
  },
  {
   "cell_type": "code",
   "execution_count": 8,
   "id": "a9270c72-c6cc-43e2-83e6-7257345389ec",
   "metadata": {},
   "outputs": [
    {
     "data": {
      "text/plain": [
       "array([1, 6, 7, 5, 7, 8, 9])"
      ]
     },
     "execution_count": 8,
     "metadata": {},
     "output_type": "execute_result"
    }
   ],
   "source": [
    "arr=np.array([1,2,3,5,7,8,9])\n",
    "np.put(arr,[1,2],[6,7])\n",
    "arr\n",
    "\n"
   ]
  },
  {
   "cell_type": "markdown",
   "id": "3c8ee22c-474f-4fb0-a0c3-5315f523ae38",
   "metadata": {},
   "source": [
    "# copy to"
   ]
  },
  {
   "cell_type": "code",
   "execution_count": 140,
   "id": "aa5688df-d3a1-4a69-88b2-3902e2296cd0",
   "metadata": {},
   "outputs": [
    {
     "name": "stdout",
     "output_type": "stream",
     "text": [
      "before arr1 [1 2 3]\n",
      "before arr2 [4 7 9]\n",
      "after arr1 [4 7 9]\n",
      "after arr2 [4 7 9]\n"
     ]
    }
   ],
   "source": [
    "arr1=np.array([1,2,3])\n",
    "arr2=np.array([4,7,9])\n",
    "print(\"before arr1\",arr1)\n",
    "print(\"before arr2\",arr2)\n",
    "np.copyto(arr1,arr2)\n",
    "print(\"after arr1\",arr1)\n",
    "print(\"after arr2\",arr2)"
   ]
  },
  {
   "cell_type": "markdown",
   "id": "9d552939-4a8d-4ffa-98dd-c3950e94064b",
   "metadata": {},
   "source": [
    "# extracts unique elements from both arrays"
   ]
  },
  {
   "cell_type": "code",
   "execution_count": 144,
   "id": "7c0921cb-a144-43e6-a7f5-0ea954e3be70",
   "metadata": {},
   "outputs": [
    {
     "data": {
      "text/plain": [
       "array([ 1,  3,  4,  9, 10, 21])"
      ]
     },
     "execution_count": 144,
     "metadata": {},
     "output_type": "execute_result"
    }
   ],
   "source": [
    "a=np.array([1,4,6,7,9])\n",
    "b=np.array([3,6,7,21,10])\n",
    "np.setxor1d(a,b)"
   ]
  },
  {
   "cell_type": "markdown",
   "id": "93870a47-63c8-42e5-8df9-ae0a2282521d",
   "metadata": {},
   "source": [
    "# Union"
   ]
  },
  {
   "cell_type": "code",
   "execution_count": 147,
   "id": "85293a3a-4ffa-4cb9-b72d-816278fe3ab2",
   "metadata": {},
   "outputs": [
    {
     "data": {
      "text/plain": [
       "array([ 1,  3,  4,  6,  7,  9, 10, 21])"
      ]
     },
     "execution_count": 147,
     "metadata": {},
     "output_type": "execute_result"
    }
   ],
   "source": [
    "a=np.array([1,4,6,7,9])\n",
    "b=np.array([3,6,7,21,10])\n",
    "np.union1d(a,b)"
   ]
  },
  {
   "cell_type": "markdown",
   "id": "1a3811ac-549b-46d0-a760-a0a0e25add30",
   "metadata": {},
   "source": [
    "# Splitting"
   ]
  },
  {
   "cell_type": "code",
   "execution_count": 150,
   "id": "cb5da8bb-cbdb-4040-91e2-2cc975d9ad81",
   "metadata": {},
   "outputs": [
    {
     "data": {
      "text/plain": [
       "[array([[3, 4],\n",
       "        [6, 7]]),\n",
       " array([[5, 2],\n",
       "        [2, 6]])]"
      ]
     },
     "execution_count": 150,
     "metadata": {},
     "output_type": "execute_result"
    }
   ],
   "source": [
    "A=np.array([[3,4,5,2],[6,7,2,6]])\n",
    "np.hsplit(A,2)"
   ]
  },
  {
   "cell_type": "code",
   "execution_count": 159,
   "id": "eaea3029-8c53-4777-b51d-20169a9318a3",
   "metadata": {},
   "outputs": [
    {
     "data": {
      "text/plain": [
       "[array([[3, 4, 5, 2]]), array([[6, 7, 2, 6]])]"
      ]
     },
     "execution_count": 159,
     "metadata": {},
     "output_type": "execute_result"
    }
   ],
   "source": [
    "np.vsplit(A,2)"
   ]
  },
  {
   "cell_type": "markdown",
   "id": "79edeff1-6727-4027-8a39-bbdeaeb49b6e",
   "metadata": {},
   "source": [
    "# Compairing two arrrays"
   ]
  },
  {
   "cell_type": "code",
   "execution_count": 162,
   "id": "518fdb89-e8ab-4b66-9d75-dd6e3c2cce98",
   "metadata": {},
   "outputs": [
    {
     "data": {
      "text/plain": [
       "False"
      ]
     },
     "execution_count": 162,
     "metadata": {},
     "output_type": "execute_result"
    }
   ],
   "source": [
    "a=np.array([0.25,0.4,0.6,0.32])\n",
    "b=np.array([0.26,0.3,0.7,0.32])\n",
    "tolerance=0.1\n",
    "np.allclose(a,b,tolerance)"
   ]
  },
  {
   "cell_type": "markdown",
   "id": "6082e107-a53d-4ae7-b69d-1b177f2d4d0b",
   "metadata": {},
   "source": [
    "# Repeat"
   ]
  },
  {
   "cell_type": "code",
   "execution_count": 182,
   "id": "2c3be58d-e48e-42f6-b8cf-c03265f89cba",
   "metadata": {},
   "outputs": [
    {
     "data": {
      "text/plain": [
       "array(['2017', '2017', '2017'], dtype='<U4')"
      ]
     },
     "execution_count": 182,
     "metadata": {},
     "output_type": "execute_result"
    }
   ],
   "source": [
    "np.repeat('2017',3)\n",
    "\n",
    "# np.repeat(1,3)\n"
   ]
  },
  {
   "cell_type": "markdown",
   "id": "80d340ea-397c-4407-8e23-ac22d1e543dd",
   "metadata": {},
   "source": [
    "# TIle"
   ]
  },
  {
   "cell_type": "code",
   "execution_count": 180,
   "id": "235a75e4-8a04-4595-9ea1-7b0118d7a30a",
   "metadata": {},
   "outputs": [
    {
     "data": {
      "text/plain": [
       "array(['Ram', 'Ram', 'Ram', 'Ram', 'Ram'], dtype='<U3')"
      ]
     },
     "execution_count": 180,
     "metadata": {},
     "output_type": "execute_result"
    }
   ],
   "source": [
    "np.tile(\"Ram\",5)"
   ]
  },
  {
   "cell_type": "code",
   "execution_count": 184,
   "id": "271c079e-a746-430e-817b-1c1f9a29025f",
   "metadata": {},
   "outputs": [
    {
     "data": {
      "text/plain": [
       "array([[3, 3, 3],\n",
       "       [3, 3, 3]])"
      ]
     },
     "execution_count": 184,
     "metadata": {},
     "output_type": "execute_result"
    }
   ],
   "source": [
    "np.tile(3,(2,3))"
   ]
  },
  {
   "cell_type": "markdown",
   "id": "b8d7b0d1-86bc-4bf6-99a4-a89e4abcd40a",
   "metadata": {},
   "source": [
    "# Einstein summation convection"
   ]
  },
  {
   "cell_type": "code",
   "execution_count": 187,
   "id": "55674726-313b-41df-94e0-be0b66ba848e",
   "metadata": {},
   "outputs": [
    {
     "data": {
      "text/plain": [
       "array([1, 5, 9])"
      ]
     },
     "execution_count": 187,
     "metadata": {},
     "output_type": "execute_result"
    }
   ],
   "source": [
    "a=np.arange(1,10).reshape(3,3)\n",
    "b=np.arange(21,30).reshape(3,3)\n",
    "np.einsum('ii->i',a) #### it will extract the diagnols"
   ]
  },
  {
   "cell_type": "markdown",
   "id": "a1b0c911-f370-4e53-85a9-c9c2905a326e",
   "metadata": {},
   "source": [
    "# Histogram"
   ]
  },
  {
   "cell_type": "code",
   "execution_count": 190,
   "id": "22bff98e-e754-4755-a088-e91683ade3b6",
   "metadata": {},
   "outputs": [
    {
     "data": {
      "text/plain": [
       "(array([2, 0, 1, 0, 1, 0, 1, 0, 2, 1], dtype=int64),\n",
       " array([2. , 2.5, 3. , 3.5, 4. , 4.5, 5. , 5.5, 6. , 6.5, 7. ]))"
      ]
     },
     "execution_count": 190,
     "metadata": {},
     "output_type": "execute_result"
    }
   ],
   "source": [
    "A=np.array([[3,4,5,2],\n",
    "           [6,7,2,6]])\n",
    "np.histogram(A)"
   ]
  },
  {
   "cell_type": "code",
   "execution_count": 192,
   "id": "81207049-9077-4be7-9c6b-0fb55690a9c4",
   "metadata": {},
   "outputs": [
    {
     "data": {
      "text/plain": [
       "5.0"
      ]
     },
     "execution_count": 192,
     "metadata": {},
     "output_type": "execute_result"
    }
   ],
   "source": [
    "a=np.array([[2,4,6],[3,8,12]])\n",
    "np.percentile(a,50)"
   ]
  },
  {
   "cell_type": "markdown",
   "id": "970844bd-d92a-411d-a29d-49138f79fbf9",
   "metadata": {},
   "source": [
    "# Show floats with two decimal values"
   ]
  },
  {
   "cell_type": "code",
   "execution_count": 195,
   "id": "12ac3906-facc-4db0-9899-95ef9dc04432",
   "metadata": {},
   "outputs": [
    {
     "name": "stdout",
     "output_type": "stream",
     "text": [
      "[12.23 32.35]\n"
     ]
    }
   ],
   "source": [
    "np.set_printoptions(precision=2)\n",
    "a=np.array([12.23456,32.34535])\n",
    "print(a)"
   ]
  },
  {
   "cell_type": "markdown",
   "id": "99ad5983-9d3b-4b76-b6fd-fd85b0a1e61c",
   "metadata": {},
   "source": [
    "# prints arrays to its max"
   ]
  },
  {
   "cell_type": "code",
   "execution_count": 203,
   "id": "df222e33-6e7a-4561-9726-0630e649c63a",
   "metadata": {},
   "outputs": [],
   "source": [
    "\n",
    "np.set_printoptions(threshold=np.inf)"
   ]
  },
  {
   "cell_type": "markdown",
   "id": "9499501e-c4a5-4360-a527-66fb27d27d5d",
   "metadata": {},
   "source": [
    "# Increase the number of elements in a line"
   ]
  },
  {
   "cell_type": "code",
   "execution_count": 201,
   "id": "d20416a6-21b8-4636-8936-f36def6d876a",
   "metadata": {},
   "outputs": [],
   "source": [
    "\n",
    "np.set_printoptions(linewidth=100)\n"
   ]
  },
  {
   "cell_type": "markdown",
   "id": "c06620d7-ae27-4967-b024-943b7b8d4d68",
   "metadata": {},
   "source": [
    "# Einsteion summation"
   ]
  },
  {
   "cell_type": "code",
   "execution_count": 5,
   "id": "4b54c9ef-1e47-4d60-8dd0-921191340966",
   "metadata": {},
   "outputs": [
    {
     "name": "stdout",
     "output_type": "stream",
     "text": [
      "6\n",
      "32\n",
      "[[ 4  5  6]\n",
      " [ 8 10 12]\n",
      " [12 15 18]]\n",
      "[[ 2  8]\n",
      " [ 3  9]\n",
      " [ 4 30]]\n",
      "[ 25  89 130]\n",
      "[[18 21]\n",
      " [40 47]]\n",
      "5\n"
     ]
    }
   ],
   "source": [
    "a=np.array([1,2,3])\n",
    "print(np.einsum('i->',a))\n",
    "\n",
    "## 2.Element wise multiplication and summation\n",
    "a=np.array([1,2,3])\n",
    "b=np.array([4,5,6])\n",
    "print(np.einsum('i,i->',a,b))\n",
    "\n",
    "##3.oter product\n",
    "a=np.array([1,2,3])\n",
    "b=np.array([4,5,6])\n",
    "print(np.einsum(\"i,j->ij\",a,b))\n",
    "\n",
    "## 4 tranpose matrix\n",
    "\n",
    "A=np.array([[2,3,4],[8,9,30]])\n",
    "print(np.einsum('ij->ji',A))\n",
    "\n",
    "## 5. matrix vector multiplication\n",
    "A=np.array([[1,2],[5,6],[7,9]])\n",
    "x=np.array([7,9])\n",
    "print(np.einsum('ij,j->i',A,x))\n",
    "\n",
    "## 6.matrix multiplication\n",
    "\n",
    "A=np.array([[1,2],[3,4]])\n",
    "B=np.array([[4,5],[7,8]])\n",
    "print(np.einsum('ij,jk->ik',A,B))\n",
    "\n",
    "#7 Trace of matrix\n",
    "A=np.array([[1,2],[3,4]])\n",
    "print(np.einsum('ii->',A))\n",
    "\n",
    "\n"
   ]
  },
  {
   "cell_type": "markdown",
   "id": "b599840e-3513-4adb-b117-eda3f49d9768",
   "metadata": {},
   "source": [
    "# understanding the batch multiplication vector"
   ]
  },
  {
   "cell_type": "code",
   "execution_count": 19,
   "id": "c737d19b-c422-4aef-8a5e-dd09ad03a1d2",
   "metadata": {},
   "outputs": [
    {
     "data": {
      "text/plain": [
       "array([[[ 9, 14, 26],\n",
       "        [25, 38, 70],\n",
       "        [30, 42, 75]],\n",
       "\n",
       "       [[32, 58, 42],\n",
       "        [28, 71, 51],\n",
       "        [28, 44, 32]]])"
      ]
     },
     "execution_count": 19,
     "metadata": {},
     "output_type": "execute_result"
    }
   ],
   "source": [
    "A=np.array([\n",
    "            [[2,3],[6,7],[9,3]],  ## first batch dimension is 3*2\n",
    "           [[4,6],[2,9],[4,4]]\n",
    "            ])                    ## second batch dimension is 3*2)\n",
    "B=np.array([\n",
    "            [[3,4,7],[1,2,4]],     ## first batch dimension is 2*3                          \n",
    "            [[5,4,3],[2,7,5]]])    ## second batch dimension is 2*3\n",
    "C=np.matmul(A,B)\n",
    "C"
   ]
  },
  {
   "cell_type": "code",
   "execution_count": 25,
   "id": "b19eb07b-3c63-4f17-86ee-7790e0c7d352",
   "metadata": {},
   "outputs": [
    {
     "data": {
      "text/plain": [
       "array([[[ 9, 14, 26],\n",
       "        [25, 38, 70],\n",
       "        [30, 42, 75]],\n",
       "\n",
       "       [[32, 58, 42],\n",
       "        [28, 71, 51],\n",
       "        [28, 44, 32]]])"
      ]
     },
     "execution_count": 25,
     "metadata": {},
     "output_type": "execute_result"
    }
   ],
   "source": [
    "C = np.einsum('bij,bjk->bik', A, B)\n",
    "C"
   ]
  },
  {
   "cell_type": "markdown",
   "id": "30810b98-2bde-45e8-baf4-65b9024920f8",
   "metadata": {},
   "source": [
    "# Understanding the tensor contraction "
   ]
  },
  {
   "cell_type": "code",
   "execution_count": 44,
   "id": "b888df44-6628-4413-a053-984e17489de3",
   "metadata": {},
   "outputs": [
    {
     "data": {
      "text/plain": [
       "array([[[[0.50985822, 0.79623369, 0.96984655, 0.73667671, 0.18024845,\n",
       "          0.52416744],\n",
       "         [0.61590517, 0.22742884, 0.6028719 , 0.57933892, 0.4133302 ,\n",
       "          0.61496568],\n",
       "         [0.93136924, 0.32049507, 0.47409067, 1.06810235, 0.57508714,\n",
       "          0.8234003 ],\n",
       "         [0.17798776, 0.27557799, 0.59414164, 0.56127332, 0.90566576,\n",
       "          0.88410312],\n",
       "         [0.54700884, 0.61115361, 0.67692621, 0.4531912 , 0.2834897 ,\n",
       "          0.78311482]],\n",
       "\n",
       "        [[1.81298863, 1.82899882, 2.44574223, 1.63261948, 1.0629124 ,\n",
       "          1.47837954],\n",
       "         [2.07720999, 0.9117031 , 1.68261005, 1.78422922, 1.64927075,\n",
       "          2.13817403],\n",
       "         [2.13785231, 0.62060886, 1.46584841, 2.53958515, 2.25152049,\n",
       "          2.16004811],\n",
       "         [1.13405962, 0.97909331, 1.05035644, 1.82030984, 2.30076415,\n",
       "          2.39800691],\n",
       "         [1.92903098, 1.71307032, 1.58666263, 1.47447421, 0.81680055,\n",
       "          1.40470087]],\n",
       "\n",
       "        [[1.32416725, 1.53150173, 1.91040326, 1.3274762 , 0.53141266,\n",
       "          1.22887859],\n",
       "         [1.24875986, 0.49552001, 1.05057426, 0.9360892 , 0.99981333,\n",
       "          1.31387364],\n",
       "         [1.49155669, 0.52238499, 0.94518542, 1.84163112, 1.33723611,\n",
       "          1.34994696],\n",
       "         [0.44496706, 0.63645747, 0.92551891, 1.38801632, 1.59855573,\n",
       "          1.56748618],\n",
       "         [1.27750707, 1.27774232, 1.34315889, 1.17375723, 0.41875428,\n",
       "          1.07019818]]],\n",
       "\n",
       "\n",
       "       [[[1.08940976, 1.34010912, 1.67805572, 1.2202686 , 0.53341452,\n",
       "          0.98933433],\n",
       "         [1.20918371, 0.45714524, 1.0222298 , 1.00716831, 0.91929216,\n",
       "          1.20825051],\n",
       "         [1.44645432, 0.48083667, 0.92343605, 1.71718411, 1.24745506,\n",
       "          1.38090654],\n",
       "         [0.48756026, 0.58704726, 0.87477095, 1.1593513 , 1.57045262,\n",
       "          1.50572462],\n",
       "         [1.14023105, 1.12347378, 1.1168225 , 0.96139765, 0.4558422 ,\n",
       "          1.08122495]],\n",
       "\n",
       "        [[0.49455344, 0.45631795, 0.63586248, 0.40606609, 0.31746365,\n",
       "          0.38104294],\n",
       "         [0.59251141, 0.27618692, 0.47656015, 0.52754308, 0.47315023,\n",
       "          0.61514366],\n",
       "         [0.57683381, 0.15282191, 0.4018892 , 0.67861655, 0.65001024,\n",
       "          0.60007123],\n",
       "         [0.36271593, 0.27161052, 0.24671022, 0.48246313, 0.61013433,\n",
       "          0.66627954],\n",
       "         [0.53794144, 0.45491558, 0.40439346, 0.38293732, 0.24470908,\n",
       "          0.35823758]],\n",
       "\n",
       "        [[1.21122596, 1.08455064, 1.51419759, 1.08217948, 1.08952492,\n",
       "          0.81483768],\n",
       "         [1.71008027, 0.67162092, 1.21907441, 1.50248318, 1.36413524,\n",
       "          1.60287528],\n",
       "         [1.40614172, 0.34271555, 1.25688488, 1.61569705, 1.86293728,\n",
       "          1.71426759],\n",
       "         [1.12523002, 0.81133446, 0.61017285, 1.23486255, 1.81982005,\n",
       "          1.72550184],\n",
       "         [1.47444131, 1.14638518, 0.76231434, 0.99034683, 0.64227171,\n",
       "          0.83777146]]]])"
      ]
     },
     "execution_count": 44,
     "metadata": {},
     "output_type": "execute_result"
    }
   ],
   "source": [
    "A=np.random.rand(2,3,4)\n",
    "\n",
    "B=np.random.rand(4,5,6)\n",
    "C=np.tensordot(A,B,axes=([2],[0]))\n",
    "\n",
    "D=np.einsum('ijk,klm->ijlm',A,B)\n",
    "D"
   ]
  },
  {
   "cell_type": "code",
   "execution_count": null,
   "id": "729d82f1-3fea-41a4-a65b-792768caa176",
   "metadata": {},
   "outputs": [],
   "source": []
  }
 ],
 "metadata": {
  "kernelspec": {
   "display_name": "Python [conda env:base] *",
   "language": "python",
   "name": "conda-base-py"
  },
  "language_info": {
   "codemirror_mode": {
    "name": "ipython",
    "version": 3
   },
   "file_extension": ".py",
   "mimetype": "text/x-python",
   "name": "python",
   "nbconvert_exporter": "python",
   "pygments_lexer": "ipython3",
   "version": "3.12.7"
  }
 },
 "nbformat": 4,
 "nbformat_minor": 5
}
